{
 "cells": [
  {
   "cell_type": "code",
   "execution_count": 1,
   "id": "20307e1d-d43b-4f5f-b028-f809e3fc51b7",
   "metadata": {},
   "outputs": [],
   "source": [
    "import sys\n",
    "\n",
    "import os\n",
    "\n",
    "import matplotlib.pyplot as plt\n"
   ]
  },
  {
   "cell_type": "code",
   "execution_count": 2,
   "id": "0ad8b3da-4486-426b-9c3b-d4205ac4dbab",
   "metadata": {},
   "outputs": [],
   "source": [
    "\n",
    "pyilc_folder ='../'\n",
    "\n",
    "sys.path.insert(1,pyilc_folder+'pyilc/')\n",
    "\n",
    "from input import ILCInfo\n",
    "from wavelets import Wavelets, wavelet_ILC, harmonic_ILC\n"
   ]
  },
  {
   "cell_type": "code",
   "execution_count": 3,
   "id": "beffa868-eef7-4a65-af96-56dc4eb67029",
   "metadata": {},
   "outputs": [],
   "source": [
    "# this file is where the preprocessed single-frequency maps will be downloaded and saved to.\n",
    "# they take up about 2.2 Gb; feel free to change this location.\n",
    "\n",
    "datafolder= pyilc_folder + 'data/' "
   ]
  },
  {
   "cell_type": "code",
   "execution_count": 4,
   "id": "589d614d-c3f4-428c-a47a-59bd9b1ad955",
   "metadata": {},
   "outputs": [],
   "source": [
    "# here put the output folder where you want to save the output. \n",
    "# this will need to be able to hold XXX Gb.\n",
    "output_folder = '/mnt/ceph/users/fmccarthy/pyilc_planck_tsz/standard_frequency_full/'\n",
    "if not os.path.exists(output_folder):\n",
    "    print(\"creating folder\")\n",
    "    os.makedirs(output_folder)"
   ]
  },
  {
   "cell_type": "code",
   "execution_count": null,
   "id": "8360c889-c94b-4804-b1df-2c68974222fe",
   "metadata": {},
   "outputs": [],
   "source": []
  },
  {
   "cell_type": "code",
   "execution_count": 6,
   "id": "d6d19f92-123b-4d08-b96e-347706fc961a",
   "metadata": {},
   "outputs": [],
   "source": [
    "def download_prepropressed_planckmaps(datafolder='../data/'):\n",
    "    #in total these maps take up ~2 Gb\n",
    "    !wget 'https://users.flatironinstitute.org/~fmccarthy/ymaps_PR4_McCH23/inpainted_input_maps/full/30_full_1024.fits'\n",
    "    !wget 'https://users.flatironinstitute.org/~fmccarthy/ymaps_PR4_McCH23/inpainted_input_maps/full/44_full_1024.fits'\n",
    "    !wget 'https://users.flatironinstitute.org/~fmccarthy/ymaps_PR4_McCH23/inpainted_input_maps/full/70_full_1024.fits'\n",
    "    !wget 'https://users.flatironinstitute.org/~fmccarthy/ymaps_PR4_McCH23/inpainted_input_maps/full/100_full_2048.fits'\n",
    "    !wget 'https://users.flatironinstitute.org/~fmccarthy/ymaps_PR4_McCH23/inpainted_input_maps/full/143_full_2048.fits'\n",
    "    !wget 'https://users.flatironinstitute.org/~fmccarthy/ymaps_PR4_McCH23/inpainted_input_maps/full/217_full_2048.fits'\n",
    "    !wget 'https://users.flatironinstitute.org/~fmccarthy/ymaps_PR4_McCH23/inpainted_input_maps/full/353_full_2048.fits'\n",
    "    !wget 'https://users.flatironinstitute.org/~fmccarthy/ymaps_PR4_McCH23/inpainted_input_maps/full/545_full_2048.fits'\n",
    "    !mv *.fits $datafolder \n",
    "    return "
   ]
  },
  {
   "cell_type": "code",
   "execution_count": 7,
   "id": "ea323b76-529a-4bab-8ec3-171990987224",
   "metadata": {},
   "outputs": [
    {
     "name": "stdout",
     "output_type": "stream",
     "text": [
      "--2023-09-13 10:21:04--  https://users.flatironinstitute.org/~fmccarthy/ymaps_PR4_McCH23/inpainted_input_maps/full/30_full_1024.fits\n",
      "Resolving users.flatironinstitute.org (users.flatironinstitute.org)... 10.128.36.228\n",
      "Connecting to users.flatironinstitute.org (users.flatironinstitute.org)|10.128.36.228|:443... connected.\n",
      "HTTP request sent, awaiting response... 200 OK\n",
      "Length: 100670400 (96M) [application/octet-stream]\n",
      "Saving to: ‘30_full_1024.fits’\n",
      "\n",
      "30_full_1024.fits   100%[===================>]  96.01M   304MB/s    in 0.3s    \n",
      "\n",
      "2023-09-13 10:21:04 (304 MB/s) - ‘30_full_1024.fits’ saved [100670400/100670400]\n",
      "\n",
      "--2023-09-13 10:21:04--  https://users.flatironinstitute.org/~fmccarthy/ymaps_PR4_McCH23/inpainted_input_maps/full/44_full_1024.fits\n",
      "Resolving users.flatironinstitute.org (users.flatironinstitute.org)... 10.128.36.228\n",
      "Connecting to users.flatironinstitute.org (users.flatironinstitute.org)|10.128.36.228|:443... connected.\n",
      "HTTP request sent, awaiting response... 200 OK\n",
      "Length: 100670400 (96M) [application/octet-stream]\n",
      "Saving to: ‘44_full_1024.fits’\n",
      "\n",
      "44_full_1024.fits   100%[===================>]  96.01M   307MB/s    in 0.3s    \n",
      "\n",
      "2023-09-13 10:21:05 (307 MB/s) - ‘44_full_1024.fits’ saved [100670400/100670400]\n",
      "\n",
      "--2023-09-13 10:21:05--  https://users.flatironinstitute.org/~fmccarthy/ymaps_PR4_McCH23/inpainted_input_maps/full/70_full_1024.fits\n",
      "Resolving users.flatironinstitute.org (users.flatironinstitute.org)... 10.128.36.228\n",
      "Connecting to users.flatironinstitute.org (users.flatironinstitute.org)|10.128.36.228|:443... connected.\n",
      "HTTP request sent, awaiting response... 200 OK\n",
      "Length: 100670400 (96M) [application/octet-stream]\n",
      "Saving to: ‘70_full_1024.fits’\n",
      "\n",
      "70_full_1024.fits   100%[===================>]  96.01M   305MB/s    in 0.3s    \n",
      "\n",
      "2023-09-13 10:21:05 (305 MB/s) - ‘70_full_1024.fits’ saved [100670400/100670400]\n",
      "\n",
      "--2023-09-13 10:21:06--  https://users.flatironinstitute.org/~fmccarthy/ymaps_PR4_McCH23/inpainted_input_maps/full/100_full_2048.fits\n",
      "Resolving users.flatironinstitute.org (users.flatironinstitute.org)... 10.128.36.228\n",
      "Connecting to users.flatironinstitute.org (users.flatironinstitute.org)|10.128.36.228|:443... connected.\n",
      "HTTP request sent, awaiting response... 200 OK\n",
      "Length: 402661440 (384M) [application/octet-stream]\n",
      "Saving to: ‘100_full_2048.fits’\n",
      "\n",
      "100_full_2048.fits  100%[===================>] 384.01M   307MB/s    in 1.3s    \n",
      "\n",
      "2023-09-13 10:21:07 (307 MB/s) - ‘100_full_2048.fits’ saved [402661440/402661440]\n",
      "\n",
      "--2023-09-13 10:21:07--  https://users.flatironinstitute.org/~fmccarthy/ymaps_PR4_McCH23/inpainted_input_maps/full/143_full_2048.fits\n",
      "Resolving users.flatironinstitute.org (users.flatironinstitute.org)... 10.128.36.228\n",
      "Connecting to users.flatironinstitute.org (users.flatironinstitute.org)|10.128.36.228|:443... connected.\n",
      "HTTP request sent, awaiting response... 200 OK\n",
      "Length: 402661440 (384M) [application/octet-stream]\n",
      "Saving to: ‘143_full_2048.fits’\n",
      "\n",
      "143_full_2048.fits  100%[===================>] 384.01M   304MB/s    in 1.3s    \n",
      "\n",
      "2023-09-13 10:21:09 (304 MB/s) - ‘143_full_2048.fits’ saved [402661440/402661440]\n",
      "\n",
      "--2023-09-13 10:21:09--  https://users.flatironinstitute.org/~fmccarthy/ymaps_PR4_McCH23/inpainted_input_maps/full/217_full_2048.fits\n",
      "Resolving users.flatironinstitute.org (users.flatironinstitute.org)... 10.128.36.228\n",
      "Connecting to users.flatironinstitute.org (users.flatironinstitute.org)|10.128.36.228|:443... connected.\n",
      "HTTP request sent, awaiting response... 200 OK\n",
      "Length: 402661440 (384M) [application/octet-stream]\n",
      "Saving to: ‘217_full_2048.fits’\n",
      "\n",
      "217_full_2048.fits  100%[===================>] 384.01M   308MB/s    in 1.2s    \n",
      "\n",
      "2023-09-13 10:21:10 (308 MB/s) - ‘217_full_2048.fits’ saved [402661440/402661440]\n",
      "\n",
      "--2023-09-13 10:21:10--  https://users.flatironinstitute.org/~fmccarthy/ymaps_PR4_McCH23/inpainted_input_maps/full/353_full_2048.fits\n",
      "Resolving users.flatironinstitute.org (users.flatironinstitute.org)... 10.128.36.228\n",
      "Connecting to users.flatironinstitute.org (users.flatironinstitute.org)|10.128.36.228|:443... connected.\n",
      "HTTP request sent, awaiting response... 200 OK\n",
      "Length: 402661440 (384M) [application/octet-stream]\n",
      "Saving to: ‘353_full_2048.fits’\n",
      "\n",
      "353_full_2048.fits  100%[===================>] 384.01M   307MB/s    in 1.3s    \n",
      "\n",
      "2023-09-13 10:21:12 (307 MB/s) - ‘353_full_2048.fits’ saved [402661440/402661440]\n",
      "\n",
      "--2023-09-13 10:21:12--  https://users.flatironinstitute.org/~fmccarthy/ymaps_PR4_McCH23/inpainted_input_maps/full/545_full_2048.fits\n",
      "Resolving users.flatironinstitute.org (users.flatironinstitute.org)... 10.128.36.228\n",
      "Connecting to users.flatironinstitute.org (users.flatironinstitute.org)|10.128.36.228|:443... connected.\n",
      "HTTP request sent, awaiting response... 200 OK\n",
      "Length: 402661440 (384M) [application/octet-stream]\n",
      "Saving to: ‘545_full_2048.fits’\n",
      "\n",
      "545_full_2048.fits  100%[===================>] 384.01M   300MB/s    in 1.3s    \n",
      "\n",
      "2023-09-13 10:21:13 (300 MB/s) - ‘545_full_2048.fits’ saved [402661440/402661440]\n",
      "\n"
     ]
    }
   ],
   "source": [
    "download_prepropressed_planckmaps(datafolder=datafolder)"
   ]
  },
  {
   "cell_type": "code",
   "execution_count": 8,
   "id": "4d88b73a-bbe8-41d0-8fa7-6fd244f7720c",
   "metadata": {},
   "outputs": [],
   "source": [
    "def set_freqmapfiles_in_info(ILCInfo,datafolder='../data/'):\n",
    "\n",
    "    for xind,x in enumerate([30,44,70,100,143,353,217,545]):\n",
    "        if x<100:\n",
    "            nside = 1024\n",
    "        else:\n",
    "            nside = 2048\n",
    "        ILCInfo.freq_map_files[xind]= datafolder + str(x) + '_full_' + str(nside) +'.fits'"
   ]
  },
  {
   "cell_type": "code",
   "execution_count": 9,
   "id": "54696f79-4969-4f65-892c-34d59ac3fd09",
   "metadata": {},
   "outputs": [],
   "source": [
    "inputfile = pyilc_folder + 'input/sample_run_Planck_tsz_nodeproj.yml'\n",
    "\n",
    "info = ILCInfo(inputfile)\n",
    "\n",
    "set_freqmapfiles_in_info(info,datafolder)\n",
    "\n",
    "info.output_dir = output_folder\n"
   ]
  },
  {
   "cell_type": "code",
   "execution_count": 14,
   "id": "ec3206bc-acba-4486-a9aa-d4d41ec9f36d",
   "metadata": {},
   "outputs": [
    {
     "data": {
      "text/plain": [
       "'/mnt/ceph/users/fmccarthy/pyilc_planck_tsz/standard_frequency_full/'"
      ]
     },
     "execution_count": 14,
     "metadata": {},
     "output_type": "execute_result"
    }
   ],
   "source": [
    "output_folder"
   ]
  },
  {
   "cell_type": "code",
   "execution_count": 11,
   "id": "6f58796e-e5f5-4aa5-ad93-870bb49041ac",
   "metadata": {},
   "outputs": [],
   "source": [
    "##########################\n",
    "# read in frequency maps\n",
    "info.read_maps()\n",
    "# read in bandpasses\n",
    "info.read_bandpasses()\n",
    "# read in beams\n",
    "info.read_beams()\n",
    "#########################"
   ]
  },
  {
   "cell_type": "code",
   "execution_count": 12,
   "id": "81a056bb-fe6d-49bd-a2d6-063d662048a7",
   "metadata": {},
   "outputs": [],
   "source": [
    "# construct wavelets\n",
    "wv = Wavelets(N_scales=info.N_scales, ELLMAX=info.ELLMAX, tol=1.e-6, taper_width=info.taper_width)\n",
    "if info.wavelet_type == 'GaussianNeedlets':\n",
    "    ell, filts = wv.GaussianNeedlets(FWHM_arcmin=info.GN_FWHM_arcmin)\n",
    "elif info.wavelet_type == 'CosineNeedlets': # Fiona added CosineNeedlets\n",
    "    ell,filts = wv.CosineNeedlets(ellmin = info.ellmin,ellpeaks = info.ellpeaks)\n",
    "elif info.wavelet_type == 'TopHatHarmonic':\n",
    "    ell,filts = wv.TopHatHarmonic(info.ellbins)\n",
    "else:\n",
    "    raise TypeError('unsupported wavelet type')"
   ]
  },
  {
   "cell_type": "code",
   "execution_count": 13,
   "id": "281d221e-88c5-428f-ab26-2674783f4e56",
   "metadata": {},
   "outputs": [
    {
     "name": "stdout",
     "output_type": "stream",
     "text": [
      "fwhms are [6.52444672 3.77034305 1.42505538 0.75406842 0.34906585 0.15932603\n",
      " 0.11038431 0.0807931  0.0478692  0.01532402]\n",
      "waveletizing frequency  0 ...\n",
      "needlet coefficient map not previously computed; re-computing all maps for frequency 0 now...\n",
      "done waveletizing frequency  0 ...\n",
      "waveletizing frequency  1 ...\n",
      "needlet coefficient map not previously computed; re-computing all maps for frequency 1 now...\n",
      "done waveletizing frequency  1 ...\n",
      "waveletizing frequency  2 ...\n",
      "needlet coefficient map not previously computed; re-computing all maps for frequency 2 now...\n",
      "done waveletizing frequency  2 ...\n",
      "waveletizing frequency  3 ...\n",
      "needlet coefficient map not previously computed; re-computing all maps for frequency 3 now...\n",
      "done waveletizing frequency  3 ...\n",
      "waveletizing frequency  4 ...\n",
      "needlet coefficient map not previously computed; re-computing all maps for frequency 4 now...\n",
      "done waveletizing frequency  4 ...\n",
      "waveletizing frequency  5 ...\n",
      "needlet coefficient map not previously computed; re-computing all maps for frequency 5 now...\n",
      "done waveletizing frequency  5 ...\n",
      "waveletizing frequency  6 ...\n",
      "needlet coefficient map not previously computed; re-computing all maps for frequency 6 now...\n",
      "done waveletizing frequency  6 ...\n",
      "waveletizing frequency  7 ...\n",
      "needlet coefficient map not previously computed; re-computing all maps for frequency 7 now...\n",
      "done waveletizing frequency  7 ...\n",
      "not waveletizing any other maps\n",
      "needlet coefficient covariance map not previously computed; re-computing all covariance maps at scale 0 now...\n"
     ]
    },
    {
     "name": "stderr",
     "output_type": "stream",
     "text": [
      "WARNING: AstropyDeprecationWarning: \"verbose\" was deprecated in version 1.15.0 and will be removed in a future version.  [wavelets]\n",
      "WARNING: AstropyDeprecationWarning: \"verbose\" was deprecated in version 1.15.0 and will be removed in a future version.  [wavelets]\n"
     ]
    },
    {
     "name": "stdout",
     "output_type": "stream",
     "text": [
      "done computing all covariance maps at scale0\n",
      "needlet coefficient inverse covariance map not previously computed; re-computing all inverse covariance maps at scale 0 now...\n",
      "in compute weights at scale\n",
      "done computing all inverse covariance maps at scale0\n",
      "done computing all ILC weights at scale0\n",
      "needlet coefficient covariance map not previously computed; re-computing all covariance maps at scale 1 now...\n",
      "done computing all covariance maps at scale1\n",
      "needlet coefficient inverse covariance map not previously computed; re-computing all inverse covariance maps at scale 1 now...\n",
      "in compute weights at scale\n",
      "done computing all inverse covariance maps at scale1\n",
      "done computing all ILC weights at scale1\n",
      "needlet coefficient covariance map not previously computed; re-computing all covariance maps at scale 2 now...\n",
      "done computing all covariance maps at scale2\n",
      "needlet coefficient inverse covariance map not previously computed; re-computing all inverse covariance maps at scale 2 now...\n",
      "in compute weights at scale\n",
      "done computing all inverse covariance maps at scale2\n",
      "done computing all ILC weights at scale2\n",
      "needlet coefficient covariance map not previously computed; re-computing all covariance maps at scale 3 now...\n",
      "done computing all covariance maps at scale3\n",
      "needlet coefficient inverse covariance map not previously computed; re-computing all inverse covariance maps at scale 3 now...\n",
      "in compute weights at scale\n",
      "done computing all inverse covariance maps at scale3\n",
      "done computing all ILC weights at scale3\n",
      "needlet coefficient covariance map not previously computed; re-computing all covariance maps at scale 4 now...\n",
      "done computing all covariance maps at scale4\n",
      "needlet coefficient inverse covariance map not previously computed; re-computing all inverse covariance maps at scale 4 now...\n",
      "in compute weights at scale\n",
      "done computing all inverse covariance maps at scale4\n",
      "done computing all ILC weights at scale4\n",
      "needlet coefficient covariance map not previously computed; re-computing all covariance maps at scale 5 now...\n",
      "done computing all covariance maps at scale5\n",
      "needlet coefficient inverse covariance map not previously computed; re-computing all inverse covariance maps at scale 5 now...\n",
      "in compute weights at scale\n",
      "done computing all inverse covariance maps at scale5\n",
      "done computing all ILC weights at scale5\n",
      "needlet coefficient covariance map not previously computed; re-computing all covariance maps at scale 6 now...\n",
      "done computing all covariance maps at scale6\n",
      "needlet coefficient inverse covariance map not previously computed; re-computing all inverse covariance maps at scale 6 now...\n",
      "in compute weights at scale\n",
      "done computing all inverse covariance maps at scale6\n",
      "done computing all ILC weights at scale6\n",
      "needlet coefficient covariance map not previously computed; re-computing all covariance maps at scale 7 now...\n",
      "done computing all covariance maps at scale7\n",
      "needlet coefficient inverse covariance map not previously computed; re-computing all inverse covariance maps at scale 7 now...\n",
      "in compute weights at scale\n",
      "done computing all inverse covariance maps at scale7\n",
      "done computing all ILC weights at scale7\n",
      "needlet coefficient covariance map not previously computed; re-computing all covariance maps at scale 8 now...\n",
      "done computing all covariance maps at scale8\n",
      "needlet coefficient inverse covariance map not previously computed; re-computing all inverse covariance maps at scale 8 now...\n",
      "in compute weights at scale\n",
      "done computing all inverse covariance maps at scale8\n",
      "done computing all ILC weights at scale8\n",
      "needlet coefficient covariance map not previously computed; re-computing all covariance maps at scale 9 now...\n",
      "done computing all covariance maps at scale9\n",
      "needlet coefficient inverse covariance map not previously computed; re-computing all inverse covariance maps at scale 9 now...\n",
      "in compute weights at scale\n",
      "done computing all inverse covariance maps at scale9\n",
      "done computing all ILC weights at scale9\n"
     ]
    }
   ],
   "source": [
    "# wavelet ILC\n",
    "# this takes some time if it has not been computed before!!\n",
    "if info.wavelet_type == 'TopHatHarmonic':\n",
    "    info.maps2alms()\n",
    "    info.alms2cls()\n",
    "    harmonic_ILC(wv, info, resp_tol=info.resp_tol, map_images=False)\n",
    "else:\n",
    "    wavelet_ILC(wv, info, resp_tol=info.resp_tol, map_images=False)\n",
    "\n"
   ]
  },
  {
   "cell_type": "code",
   "execution_count": null,
   "id": "84df73f2-5c50-4969-8a88-6965a7776802",
   "metadata": {},
   "outputs": [],
   "source": []
  }
 ],
 "metadata": {
  "kernelspec": {
   "display_name": "newcibenvfive",
   "language": "python",
   "name": "newcibenvfive"
  },
  "language_info": {
   "codemirror_mode": {
    "name": "ipython",
    "version": 3
   },
   "file_extension": ".py",
   "mimetype": "text/x-python",
   "name": "python",
   "nbconvert_exporter": "python",
   "pygments_lexer": "ipython3",
   "version": "3.9.15"
  }
 },
 "nbformat": 4,
 "nbformat_minor": 5
}
